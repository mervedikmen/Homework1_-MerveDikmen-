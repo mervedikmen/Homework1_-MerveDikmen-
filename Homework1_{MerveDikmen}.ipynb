{
 "cells": [
  {
   "cell_type": "code",
   "execution_count": null,
   "metadata": {},
   "outputs": [],
   "source": [
    "import nsfg\n",
    "import thinkstats2\n",
    "import thinkplot"
   ]
  },
  {
   "cell_type": "code",
   "execution_count": null,
   "metadata": {},
   "outputs": [],
   "source": [
    "resp=nsfg.ReadFemResp()"
   ]
  },
  {
   "cell_type": "code",
   "execution_count": 46,
   "metadata": {},
   "outputs": [
    {
     "name": "stdout",
     "output_type": "stream",
     "text": [
      "Index(['caseid', 'rscrinf', 'rdormres', 'rostscrn', 'rscreenhisp',\n",
      "       'rscreenrace', 'age_a', 'age_r', 'cmbirth', 'agescrn',\n",
      "       ...\n",
      "       'pubassis_i', 'basewgt', 'adj_mod_basewgt', 'finalwgt', 'secu_r',\n",
      "       'sest', 'cmintvw', 'cmlstyr', 'screentime', 'intvlngth'],\n",
      "      dtype='object', length=3087)\n",
      "    caseid  rscrinf  rdormres  rostscrn  rscreenhisp  rscreenrace  age_a  \\\n",
      "1     5012        1         5         1            5          5.0     42   \n",
      "2    11586        1         5         1            5          5.0     43   \n",
      "3     6794        5         5         4            1          5.0     15   \n",
      "4      616        1         5         4            1          5.0     20   \n",
      "5      845        1         5         4            1          5.0     42   \n",
      "6    10333        5         5         3            1          5.0     17   \n",
      "7      855        5         5         4            5          5.0     22   \n",
      "8     8656        5         5         4            1          5.0     38   \n",
      "9     3566        5         5         4            5          5.0     21   \n",
      "10    5917        1         5         3            1          5.0     44   \n",
      "11    9200        5         5         3            1          5.0     26   \n",
      "12    6320        5         5         5            5          1.0     23   \n",
      "13   11700        1         5         4            1          5.0     34   \n",
      "14    7354        1         5         4            1          5.0     28   \n",
      "15    3697        5         5         4            5          5.0     28   \n",
      "16    4881        1         5         5            1          5.0     23   \n",
      "17    5862        1         5         4            1          5.0     33   \n",
      "18    8542        5         5         5            5          5.0     16   \n",
      "19    2054        1         5         4            5          1.0     24   \n",
      "20    3719        5         5         2            5          5.0     22   \n",
      "\n",
      "    age_r  cmbirth  agescrn     ...      pubassis_i      basewgt  \\\n",
      "1      42      718       42     ...               0  2335.279149   \n",
      "2      43      708       43     ...               0  2335.279149   \n",
      "3      15     1042       15     ...               0  3783.152221   \n",
      "4      20      991       20     ...               0  5341.329968   \n",
      "5      42      727       42     ...               0  2335.279149   \n",
      "6      17     1029       17     ...               0  2335.279149   \n",
      "7      22      965       22     ...               0  4670.558298   \n",
      "8      38      780       38     ...               0  5198.652195   \n",
      "9      21      974       21     ...               0  2764.142038   \n",
      "10     43      714       43     ...               0  2418.624283   \n",
      "11     26      923       26     ...               0  2418.624283   \n",
      "12     23      952       23     ...               0  5497.225851   \n",
      "13     34      822       34     ...               0  3362.448309   \n",
      "14     28      896       28     ...               0  2417.628123   \n",
      "15     28      896       28     ...               0  9670.512492   \n",
      "16     23      948       23     ...               0  3292.089359   \n",
      "17     33      831       33     ...               0  3056.771190   \n",
      "18     16     1036       16     ...               0  5900.163872   \n",
      "19     24      939       24     ...               0  2417.628123   \n",
      "20     22      972       22     ...               1  4168.324350   \n",
      "\n",
      "    adj_mod_basewgt      finalwgt  secu_r  sest  cmintvw  cmlstyr  screentime  \\\n",
      "1       2846.799490   4744.191350       2    18     1233     1221    16:30:59   \n",
      "2       2846.799490   4744.191350       2    18     1234     1222    18:19:09   \n",
      "3       5071.464231   5923.977368       2    18     1234     1222    15:54:43   \n",
      "4       6437.335772   7229.128072       2    18     1233     1221    14:19:44   \n",
      "5       3725.796795   4705.681352       2    18     1234     1222    17:10:13   \n",
      "6       2687.399758   3139.151658       2    18     1236     1224    14:14:38   \n",
      "7       7122.614751  10019.382170       2    18     1235     1223    14:42:52   \n",
      "8       6027.568848   6520.021223       2    18     1237     1225    15:32:34   \n",
      "9       3240.986558   4559.095792       2    18     1231     1219    16:22:25   \n",
      "10      2762.143030   3488.586646       2    18     1233     1221    15:38:06   \n",
      "11      2754.293339   2987.031126       2    18     1237     1225    14:12:31   \n",
      "12      6448.332868   7241.477811       1    18     1236     1224    14:27:20   \n",
      "13      3677.062170   4666.559600       1    18     1236     1224    11:35:31   \n",
      "14      2790.899197   3026.730179       1    18     1235     1223    14:40:18   \n",
      "15     18559.585881  31215.367494       1    18     1236     1224    11:59:26   \n",
      "16      3935.302679   4419.344908       1    18     1234     1222    20:37:54   \n",
      "17      3456.489520   4386.630850       1    18     1234     1222    16:42:13   \n",
      "18      6697.056170   7822.831313       1    18     1237     1225    13:04:36   \n",
      "19      2570.384230   2886.541491       1    18     1236     1224    13:58:43   \n",
      "20      4879.253694   5479.401898       1    18     1238     1226    12:50:26   \n",
      "\n",
      "     intvlngth  \n",
      "1    64.294000  \n",
      "2    75.149167  \n",
      "3    28.642833  \n",
      "4    69.502667  \n",
      "5    95.488000  \n",
      "6    61.204333  \n",
      "7    59.756333  \n",
      "8    56.978833  \n",
      "9   104.744667  \n",
      "10   96.850167  \n",
      "11   61.060667  \n",
      "12   69.906500  \n",
      "13   77.493333  \n",
      "14   79.018500  \n",
      "15   45.963500  \n",
      "16  110.416833  \n",
      "17  107.819667  \n",
      "18   72.481500  \n",
      "19   87.417500  \n",
      "20   53.782000  \n",
      "\n",
      "[20 rows x 3087 columns]\n",
      "    caseid  rscrinf  rdormres  rostscrn  rscreenhisp  rscreenrace  age_a  \\\n",
      "0     2298        1         5         5            1          5.0     27   \n",
      "1     5012        1         5         1            5          5.0     42   \n",
      "2    11586        1         5         1            5          5.0     43   \n",
      "3     6794        5         5         4            1          5.0     15   \n",
      "4      616        1         5         4            1          5.0     20   \n",
      "5      845        1         5         4            1          5.0     42   \n",
      "6    10333        5         5         3            1          5.0     17   \n",
      "7      855        5         5         4            5          5.0     22   \n",
      "8     8656        5         5         4            1          5.0     38   \n",
      "9     3566        5         5         4            5          5.0     21   \n",
      "10    5917        1         5         3            1          5.0     44   \n",
      "11    9200        5         5         3            1          5.0     26   \n",
      "12    6320        5         5         5            5          1.0     23   \n",
      "13   11700        1         5         4            1          5.0     34   \n",
      "14    7354        1         5         4            1          5.0     28   \n",
      "15    3697        5         5         4            5          5.0     28   \n",
      "16    4881        1         5         5            1          5.0     23   \n",
      "17    5862        1         5         4            1          5.0     33   \n",
      "18    8542        5         5         5            5          5.0     16   \n",
      "19    2054        1         5         4            5          1.0     24   \n",
      "20    3719        5         5         2            5          5.0     22   \n",
      "21   11740        1         5         5            1          5.0     32   \n",
      "22   11343        1         5         5            1          5.0     41   \n",
      "23    7075        1         5         4            1          5.0     37   \n",
      "24    5422        1         5         2            1          5.0     38   \n",
      "25    2178        5         5         3            1          5.0     29   \n",
      "26    8358        5         5         4            5          5.0     21   \n",
      "27    5083        1         5         4            1          5.0     37   \n",
      "28    1545        5         5         4            1          5.0     39   \n",
      "29    5656        5         5         3            5          5.0     26   \n",
      "\n",
      "    age_r  cmbirth  agescrn     ...      pubassis_i      basewgt  \\\n",
      "0      27      902       27     ...               0  3247.916977   \n",
      "1      42      718       42     ...               0  2335.279149   \n",
      "2      43      708       43     ...               0  2335.279149   \n",
      "3      15     1042       15     ...               0  3783.152221   \n",
      "4      20      991       20     ...               0  5341.329968   \n",
      "5      42      727       42     ...               0  2335.279149   \n",
      "6      17     1029       17     ...               0  2335.279149   \n",
      "7      22      965       22     ...               0  4670.558298   \n",
      "8      38      780       38     ...               0  5198.652195   \n",
      "9      21      974       21     ...               0  2764.142038   \n",
      "10     43      714       43     ...               0  2418.624283   \n",
      "11     26      923       26     ...               0  2418.624283   \n",
      "12     23      952       23     ...               0  5497.225851   \n",
      "13     34      822       34     ...               0  3362.448309   \n",
      "14     28      896       28     ...               0  2417.628123   \n",
      "15     28      896       28     ...               0  9670.512492   \n",
      "16     23      948       23     ...               0  3292.089359   \n",
      "17     33      831       33     ...               0  3056.771190   \n",
      "18     16     1036       16     ...               0  5900.163872   \n",
      "19     24      939       24     ...               0  2417.628123   \n",
      "20     22      972       22     ...               1  4168.324350   \n",
      "21     32      843       32     ...               0  2417.628123   \n",
      "22     41      741       41     ...               0  2417.628123   \n",
      "23     37      782       37     ...               0  4308.038516   \n",
      "24     38      773       38     ...               0  3363.768618   \n",
      "25     29      877       29     ...               0  3363.768618   \n",
      "26     21      977       21     ...               0  2418.624283   \n",
      "27     37      789       37     ...               0  2418.624283   \n",
      "28     39      762       39     ...               0  8034.280664   \n",
      "29     26      921       26     ...               0  4170.041867   \n",
      "\n",
      "    adj_mod_basewgt      finalwgt  secu_r  sest  cmintvw  cmlstyr  screentime  \\\n",
      "0       5123.759559   5556.717241       2    18     1234     1222    18:26:36   \n",
      "1       2846.799490   4744.191350       2    18     1233     1221    16:30:59   \n",
      "2       2846.799490   4744.191350       2    18     1234     1222    18:19:09   \n",
      "3       5071.464231   5923.977368       2    18     1234     1222    15:54:43   \n",
      "4       6437.335772   7229.128072       2    18     1233     1221    14:19:44   \n",
      "5       3725.796795   4705.681352       2    18     1234     1222    17:10:13   \n",
      "6       2687.399758   3139.151658       2    18     1236     1224    14:14:38   \n",
      "7       7122.614751  10019.382170       2    18     1235     1223    14:42:52   \n",
      "8       6027.568848   6520.021223       2    18     1237     1225    15:32:34   \n",
      "9       3240.986558   4559.095792       2    18     1231     1219    16:22:25   \n",
      "10      2762.143030   3488.586646       2    18     1233     1221    15:38:06   \n",
      "11      2754.293339   2987.031126       2    18     1237     1225    14:12:31   \n",
      "12      6448.332868   7241.477811       1    18     1236     1224    14:27:20   \n",
      "13      3677.062170   4666.559600       1    18     1236     1224    11:35:31   \n",
      "14      2790.899197   3026.730179       1    18     1235     1223    14:40:18   \n",
      "15     18559.585881  31215.367494       1    18     1236     1224    11:59:26   \n",
      "16      3935.302679   4419.344908       1    18     1234     1222    20:37:54   \n",
      "17      3456.489520   4386.630850       1    18     1234     1222    16:42:13   \n",
      "18      6697.056170   7822.831313       1    18     1237     1225    13:04:36   \n",
      "19      2570.384230   2886.541491       1    18     1236     1224    13:58:43   \n",
      "20      4879.253694   5479.401898       1    18     1238     1226    12:50:26   \n",
      "21      2790.899197   3541.930171       1    18     1234     1222    14:23:08   \n",
      "22      4394.216361   5549.895265       1    18     1237     1225    20:29:06   \n",
      "23      5562.306199   6016.746616       2    18     1232     1220    16:30:34   \n",
      "24      3948.605534   4271.206606       1    18     1234     1222    17:07:52   \n",
      "25      5306.521605   5754.922681       1    18     1234     1222    18:28:12   \n",
      "26      2688.131135   3018.771264       2    18     1237     1225    16:10:17   \n",
      "27      3119.659072   3374.535218       2    18     1236     1224    15:14:10   \n",
      "28      8972.807739   9705.886131       2    18     1237     1225    14:09:31   \n",
      "29      6582.846660   7139.097203       2    18     1238     1226    11:20:54   \n",
      "\n",
      "     intvlngth  \n",
      "0   110.492667  \n",
      "1    64.294000  \n",
      "2    75.149167  \n",
      "3    28.642833  \n",
      "4    69.502667  \n",
      "5    95.488000  \n",
      "6    61.204333  \n",
      "7    59.756333  \n",
      "8    56.978833  \n",
      "9   104.744667  \n",
      "10   96.850167  \n",
      "11   61.060667  \n",
      "12   69.906500  \n",
      "13   77.493333  \n",
      "14   79.018500  \n",
      "15   45.963500  \n",
      "16  110.416833  \n",
      "17  107.819667  \n",
      "18   72.481500  \n",
      "19   87.417500  \n",
      "20   53.782000  \n",
      "21   92.950500  \n",
      "22   70.791667  \n",
      "23   80.659000  \n",
      "24   45.171500  \n",
      "25   77.489833  \n",
      "26   28.934833  \n",
      "27   58.307000  \n",
      "28   53.124833  \n",
      "29   61.501000  \n",
      "\n",
      "[30 rows x 3087 columns]\n",
      "There are 7643 rows and 3087 columns.\n"
     ]
    }
   ],
   "source": [
    "#1\n",
    "print (resp.columns)    #columns\n",
    "print (resp[1:21])      #first 20 rows\n",
    "print (resp[:30])       #last 30 rows\n",
    "print ('There are ' + str(resp.shape[0]) + ' rows '  + 'and ' + str(resp.shape[1]) + ' columns.')\n"
   ]
  },
  {
   "cell_type": "code",
   "execution_count": 47,
   "metadata": {},
   "outputs": [
    {
     "name": "stdout",
     "output_type": "stream",
     "text": [
      "15    18.083333\n",
      "16    18.583333\n",
      "17    19.500000\n",
      "18    19.583333\n",
      "19    20.083333\n",
      "20    21.500000\n",
      "21    22.250000\n",
      "22    23.916667\n",
      "23    23.500000\n",
      "24    22.416667\n",
      "25    22.250000\n",
      "26    21.666667\n",
      "27    21.250000\n",
      "28    21.000000\n",
      "29    21.833333\n",
      "30    24.333333\n",
      "31    23.166667\n",
      "32    22.750000\n",
      "33    21.416667\n",
      "34    21.250000\n",
      "35    21.833333\n",
      "36    22.166667\n",
      "37    22.583333\n",
      "38    21.333333\n",
      "39    17.916667\n",
      "40    21.333333\n",
      "41    20.833333\n",
      "42    17.916667\n",
      "43    21.083333\n",
      "44    19.583333\n",
      "Name: agescrn, dtype: float64\n",
      "1.25\n",
      "3.6666666666666665\n"
     ]
    }
   ],
   "source": [
    "#2\n",
    "agescrn=resp['agescrn']\n",
    "print (resp['agescrn'].value_counts().sort_index()/12)\n",
    "print (agescrn.min()/12)\n",
    "print (agescrn.max()/12)"
   ]
  },
  {
   "cell_type": "code",
   "execution_count": 55,
   "metadata": {},
   "outputs": [
    {
     "name": "stdout",
     "output_type": "stream",
     "text": [
      "0       27\n",
      "1       42\n",
      "2       43\n",
      "3       15\n",
      "4       20\n",
      "5       42\n",
      "6       17\n",
      "7       22\n",
      "8       38\n",
      "9       21\n",
      "10      43\n",
      "11      26\n",
      "12      23\n",
      "13      34\n",
      "14      28\n",
      "15      28\n",
      "16      23\n",
      "17      33\n",
      "18      16\n",
      "19      24\n",
      "20      22\n",
      "21      32\n",
      "22      41\n",
      "23      37\n",
      "24      38\n",
      "25      29\n",
      "26      21\n",
      "27      37\n",
      "28      39\n",
      "29      26\n",
      "        ..\n",
      "7613    18\n",
      "7614    24\n",
      "7615    15\n",
      "7616    30\n",
      "7617    24\n",
      "7618    34\n",
      "7619    34\n",
      "7620    26\n",
      "7621    22\n",
      "7622    19\n",
      "7623    19\n",
      "7624    37\n",
      "7625    20\n",
      "7626    23\n",
      "7627    23\n",
      "7628    17\n",
      "7629    36\n",
      "7630    44\n",
      "7631    32\n",
      "7632    40\n",
      "7633    35\n",
      "7634    35\n",
      "7635    30\n",
      "7636    41\n",
      "7637    35\n",
      "7638    34\n",
      "7639    17\n",
      "7640    29\n",
      "7641    16\n",
      "7642    28\n",
      "Name: agescrn, Length: 7643, dtype: int64\n",
      "1.868979057591623\n"
     ]
    }
   ],
   "source": [
    "#3\n",
    "print (resp.agescrn[resp.agescrn/12 <= 25])\n",
    "numpregs=resp['numpregs']\n",
    "print (numpregs.mean())"
   ]
  },
  {
   "cell_type": "code",
   "execution_count": 59,
   "metadata": {},
   "outputs": [
    {
     "name": "stderr",
     "output_type": "stream",
     "text": [
      "No handles with labels found to put in legend.\n"
     ]
    },
    {
     "name": "stdout",
     "output_type": "stream",
     "text": [
      "0    293.083333\n",
      "1    286.333333\n",
      "2     48.500000\n",
      "3      7.500000\n",
      "4      1.250000\n",
      "5      0.250000\n",
      "Name: fmarno, dtype: float64\n"
     ]
    },
    {
     "data": {
      "image/png": "[encoded data removed]",
      "text/plain": [
       "<Figure size 432x288 with 1 Axes>"
      ]
     },
     "metadata": {},
     "output_type": "display_data"
    },
    {
     "data": {
      "text/plain": [
       "<Figure size 576x432 with 0 Axes>"
      ]
     },
     "metadata": {},
     "output_type": "display_data"
    }
   ],
   "source": [
    "#4\n",
    "fmarno=resp['fmarno']\n",
    "print (resp['fmarno'].value_counts().sort_index()/12)   #finding frequencies\n",
    "\n",
    "histogram=thinkstats2.Hist(fmarno)      #plotting the histogram\n",
    "thinkplot.Hist(histogram)\n",
    "thinkplot.Show(xlabel='Number Of Marriage', ylabel='Frequency')"
   ]
  },
  {
   "cell_type": "code",
   "execution_count": 58,
   "metadata": {},
   "outputs": [
    {
     "name": "stderr",
     "output_type": "stream",
     "text": [
      "No handles with labels found to put in legend.\n"
     ]
    },
    {
     "data": {
      "image/png": "[encoded data removed]",
      "text/plain": [
       "<Figure size 432x288 with 1 Axes>"
      ]
     },
     "metadata": {},
     "output_type": "display_data"
    },
    {
     "data": {
      "text/plain": [
       "<Figure size 576x432 with 0 Axes>"
      ]
     },
     "metadata": {},
     "output_type": "display_data"
    }
   ],
   "source": [
    "#5\n",
    "nevermarried= resp[fmarno == 0]\n",
    "married = resp[fmarno != 0]\n",
    "histogram_nevermarried = thinkstats2.Hist(nevermarried.totincr)\n",
    "histogram_married = thinkstats2.Hist(married.totincr)\n",
    "\n",
    "histogramwidth=0.50\n",
    "thinkplot.PrePlot(2)\n",
    "thinkplot.Hist(histogram_nevermarried, align='left', width=histogramwidth)\n",
    "thinkplot.Hist(histogram_married, align='right', width=histogramwidth)\n",
    "thinkplot.Show(xlabel='Total Income For The Respondent Family',ylabel='Frequency')"
   ]
  },
  {
   "cell_type": "code",
   "execution_count": 60,
   "metadata": {},
   "outputs": [
    {
     "name": "stdout",
     "output_type": "stream",
     "text": [
      "The total income of the nevermarried respondents is maximum 14, minimum 1, mean 9.495152690256907, variance 13.798643164558822 and standard deviation 3.714652495800761.\n"
     ]
    }
   ],
   "source": [
    "#6 for married respondents\n",
    "a=max(married.totincr)\n",
    "b=min(married.totincr)\n",
    "c=married.totincr.mean()\n",
    "d=married.totincr.var()\n",
    "e=married.totincr.std()\n",
    "print ('The total income of the nevermarried respondents is maximum ' + str(max(married.totincr)) + ', minimum ' + str(min(married.totincr)) + ', mean ' + str(married.totincr.mean()) + ', variance ' + str(married.totincr.var()) + ' and standard deviation ' + str(married.totincr.std()) + '.')"
   ]
  },
  {
   "cell_type": "code",
   "execution_count": 53,
   "metadata": {},
   "outputs": [
    {
     "name": "stdout",
     "output_type": "stream",
     "text": [
      "The total income of the nevermarried respondents maximum 14, minimum 1, mean 8.020756326414558, variance 15.846838676954421 and standard deviation 3.980808796834435.\n"
     ]
    }
   ],
   "source": [
    "#6 for nevermarried respondents\n",
    "x=max(nevermarried.totincr)\n",
    "y=min(nevermarried.totincr)\n",
    "z=nevermarried.totincr.mean()\n",
    "k=nevermarried.totincr.var()\n",
    "m=nevermarried.totincr.std()\n",
    "\n",
    "print ('The total income of the nevermarried respondents is maximum ' + str(max(nevermarried.totincr)) + ', minimum ' + str(min(nevermarried.totincr)) + ', mean ' + str(nevermarried.totincr.mean()) + ', variance ' + str(nevermarried.totincr.var()) + ' and standard deviation ' + str(nevermarried.totincr.std()) + '.')"
   ]
  }
 ],
 "metadata": {
  "kernelspec": {
   "display_name": "Python 3",
   "language": "python",
   "name": "python3"
  },
  "language_info": {
   "codemirror_mode": {
    "name": "ipython",
    "version": 3
   },
   "file_extension": ".py",
   "mimetype": "text/x-python",
   "name": "python",
   "nbconvert_exporter": "python",
   "pygments_lexer": "ipython3",
   "version": "3.6.3"
  }
 },
 "nbformat": 4,
 "nbformat_minor": 1
}
